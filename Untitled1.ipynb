{
 "cells": [
  {
   "cell_type": "code",
   "execution_count": 10,
   "metadata": {},
   "outputs": [
    {
     "name": "stdout",
     "output_type": "stream",
     "text": [
      "1xxx2xxx4xxx8xxx16xxx\n",
      "1xxx2xxx4xxx8xxx\n",
      "1xxx2xxx4xxx\n",
      "1xxx2xxx\n",
      "1xxx\n"
     ]
    }
   ],
   "source": [
    "i=5\n",
    "while i>=1:\n",
    "    num=1\n",
    "    for j in range(1,i+1):\n",
    "        print(num,end=\"xxx\")\n",
    "        num*=2\n",
    "    print()\n",
    "    i-=1"
   ]
  },
  {
   "cell_type": "code",
   "execution_count": 11,
   "metadata": {},
   "outputs": [
    {
     "name": "stdout",
     "output_type": "stream",
     "text": [
      "1G\n",
      "1G3G\n",
      "1G3G5G\n",
      "1G3G5G7G\n"
     ]
    }
   ],
   "source": [
    "i=1\n",
    "while i<5:\n",
    "    num=1\n",
    "    for j in range(1,i+1):\n",
    "        print(num,end='G')\n",
    "        num+=2\n",
    "    print()\n",
    "    i+=1"
   ]
  },
  {
   "cell_type": "code",
   "execution_count": 22,
   "metadata": {},
   "outputs": [
    {
     "name": "stdout",
     "output_type": "stream",
     "text": [
      "1\n",
      "-1\n",
      "data:[1]\n",
      "len:1\n"
     ]
    }
   ],
   "source": [
    "data=[]\n",
    "while True:\n",
    "    x=int(input())\n",
    "    if x == -1:\n",
    "        break\n",
    "    if x not in data:\n",
    "        data.append(x)\n",
    "print('data:{0}\\nlen:{1}'.format(data,len(data)))"
   ]
  },
  {
   "cell_type": "code",
   "execution_count": 37,
   "metadata": {},
   "outputs": [
    {
     "name": "stdout",
     "output_type": "stream",
     "text": [
      "{'a', 'l', 'e', 'p'}\n"
     ]
    }
   ],
   "source": [
    "fruit = {'apple','banana','orange','pear'}\n",
    "# 这是在创建一个集合，而不是一个字典（如果是emp={}）\n",
    "emp=set('apple')\n",
    "prime=set([2,3,5,7,9])\n",
    "even=set([x*2 for x in range(1,100)])\n",
    "print(emp)"
   ]
  },
  {
   "cell_type": "code",
   "execution_count": 36,
   "metadata": {},
   "outputs": [
    {
     "name": "stdout",
     "output_type": "stream",
     "text": [
      "{'orange', 'pear', 'banana', 'apple'}\n",
      "{'a', 'l', 'e', 'p'}\n",
      "{2, 3, 5, 7, 9}\n",
      "{2, 4, 6, 8, 10, 12, 14, 16, 18, 20, 22, 24, 26, 28, 30, 32, 34, 36, 38, 40, 42, 44, 46, 48, 50, 52, 54, 56, 58, 60, 62, 64, 66, 68, 70, 72, 74, 76, 78, 80, 82, 84, 86, 88, 90, 92, 94, 96, 98, 100, 102, 104, 106, 108, 110, 112, 114, 116, 118, 120, 122, 124, 126, 128, 130, 132, 134, 136, 138, 140, 142, 144, 146, 148, 150, 152, 154, 156, 158, 160, 162, 164, 166, 168, 170, 172, 174, 176, 178, 180, 182, 184, 186, 188, 190, 192, 194, 196, 198}\n",
      "set()\n"
     ]
    }
   ],
   "source": [
    "print(fruit,emp,prime,even,emp&fruit,sep='\\n')"
   ]
  },
  {
   "cell_type": "code",
   "execution_count": null,
   "metadata": {},
   "outputs": [],
   "source": []
  },
  {
   "cell_type": "code",
   "execution_count": 68,
   "metadata": {},
   "outputs": [
    {
     "name": "stdout",
     "output_type": "stream",
     "text": [
      "True\n",
      "['张三', '李四', '尚崇庆']\n",
      "[78, 82, 99]\n",
      "(('张三', 78), ('李四', 82), ('尚崇庆', 99))\n"
     ]
    }
   ],
   "source": [
    "score={'张三':78,'李四':82,'尚崇庆':99}\n",
    "print('尚崇庆'in score)\n",
    "print(list(score.keys()),list(score.values()),tuple(score.items()),sep='\\n')"
   ]
  },
  {
   "cell_type": "code",
   "execution_count": 87,
   "metadata": {},
   "outputs": [],
   "source": [
    "score['小明']=10"
   ]
  },
  {
   "cell_type": "code",
   "execution_count": 66,
   "metadata": {},
   "outputs": [],
   "source": [
    "score.clear()"
   ]
  },
  {
   "cell_type": "code",
   "execution_count": null,
   "metadata": {},
   "outputs": [],
   "source": []
  },
  {
   "cell_type": "code",
   "execution_count": null,
   "metadata": {},
   "outputs": [],
   "source": []
  },
  {
   "cell_type": "code",
   "execution_count": 86,
   "metadata": {},
   "outputs": [
    {
     "name": "stdout",
     "output_type": "stream",
     "text": [
      "10\n",
      "None\n"
     ]
    }
   ],
   "source": [
    "print(score.pop('小明'))\n",
    "print(score.get('小明'))"
   ]
  },
  {
   "cell_type": "code",
   "execution_count": 122,
   "metadata": {},
   "outputs": [],
   "source": [
    "fo = open('score','w')"
   ]
  },
  {
   "cell_type": "code",
   "execution_count": 123,
   "metadata": {},
   "outputs": [
    {
     "data": {
      "text/plain": [
       "4"
      ]
     },
     "execution_count": 123,
     "metadata": {},
     "output_type": "execute_result"
    }
   ],
   "source": [
    "fo.write()"
   ]
  },
  {
   "cell_type": "code",
   "execution_count": 11,
   "metadata": {},
   "outputs": [],
   "source": [
    "import student_score as ss"
   ]
  },
  {
   "cell_type": "code",
   "execution_count": 12,
   "metadata": {},
   "outputs": [
    {
     "name": "stdout",
     "output_type": "stream",
     "text": [
      "185308212 尚崇庆\n",
      "185308210 顾恒宇\n",
      "185308211 陈佳庆\n",
      "185308212 数据结构 100\n",
      "185308210 python 65\n",
      "END\n"
     ]
    }
   ],
   "source": [
    "ss.student_score_write()"
   ]
  },
  {
   "cell_type": "code",
   "execution_count": 13,
   "metadata": {},
   "outputs": [
    {
     "data": {
      "text/plain": [
       "set()"
      ]
     },
     "execution_count": 13,
     "metadata": {},
     "output_type": "execute_result"
    }
   ],
   "source": [
    "ss.student"
   ]
  }
 ],
 "metadata": {
  "kernelspec": {
   "display_name": "Python 3",
   "language": "python",
   "name": "python3"
  },
  "language_info": {
   "codemirror_mode": {
    "name": "ipython",
    "version": 3
   },
   "file_extension": ".py",
   "mimetype": "text/x-python",
   "name": "python",
   "nbconvert_exporter": "python",
   "pygments_lexer": "ipython3",
   "version": "3.7.0"
  }
 },
 "nbformat": 4,
 "nbformat_minor": 2
}
